{
 "cells": [
  {
   "cell_type": "markdown",
   "metadata": {},
   "source": [
    "## Data Science Principles and Practices\n"
   ]
  },
  {
   "cell_type": "markdown",
   "metadata": {},
   "source": [
    "## Task 1– Maximum Likelihood Inference"
   ]
  },
  {
   "cell_type": "code",
   "execution_count": 326,
   "metadata": {},
   "outputs": [
    {
     "data": {
      "text/html": [
       "<div>\n",
       "<style scoped>\n",
       "    .dataframe tbody tr th:only-of-type {\n",
       "        vertical-align: middle;\n",
       "    }\n",
       "\n",
       "    .dataframe tbody tr th {\n",
       "        vertical-align: top;\n",
       "    }\n",
       "\n",
       "    .dataframe thead th {\n",
       "        text-align: right;\n",
       "    }\n",
       "</style>\n",
       "<table border=\"1\" class=\"dataframe\">\n",
       "  <thead>\n",
       "    <tr style=\"text-align: right;\">\n",
       "      <th></th>\n",
       "      <th>0</th>\n",
       "    </tr>\n",
       "  </thead>\n",
       "  <tbody>\n",
       "    <tr>\n",
       "      <th>0</th>\n",
       "      <td>6</td>\n",
       "    </tr>\n",
       "    <tr>\n",
       "      <th>1</th>\n",
       "      <td>25</td>\n",
       "    </tr>\n",
       "    <tr>\n",
       "      <th>2</th>\n",
       "      <td>12</td>\n",
       "    </tr>\n",
       "    <tr>\n",
       "      <th>3</th>\n",
       "      <td>10</td>\n",
       "    </tr>\n",
       "    <tr>\n",
       "      <th>4</th>\n",
       "      <td>16</td>\n",
       "    </tr>\n",
       "    <tr>\n",
       "      <th>...</th>\n",
       "      <td>...</td>\n",
       "    </tr>\n",
       "    <tr>\n",
       "      <th>3755</th>\n",
       "      <td>14</td>\n",
       "    </tr>\n",
       "    <tr>\n",
       "      <th>3756</th>\n",
       "      <td>6</td>\n",
       "    </tr>\n",
       "    <tr>\n",
       "      <th>3757</th>\n",
       "      <td>12</td>\n",
       "    </tr>\n",
       "    <tr>\n",
       "      <th>3758</th>\n",
       "      <td>7</td>\n",
       "    </tr>\n",
       "    <tr>\n",
       "      <th>3759</th>\n",
       "      <td>7</td>\n",
       "    </tr>\n",
       "  </tbody>\n",
       "</table>\n",
       "<p>3760 rows × 1 columns</p>\n",
       "</div>"
      ],
      "text/plain": [
       "       0\n",
       "0      6\n",
       "1     25\n",
       "2     12\n",
       "3     10\n",
       "4     16\n",
       "...   ..\n",
       "3755  14\n",
       "3756   6\n",
       "3757  12\n",
       "3758   7\n",
       "3759   7\n",
       "\n",
       "[3760 rows x 1 columns]"
      ]
     },
     "execution_count": 326,
     "metadata": {},
     "output_type": "execute_result"
    }
   ],
   "source": [
    "#Loading the Quiet Don Data Set for analysis\n",
    "#We use the read_csv function from the Pandas library to load the data\n",
    "import pandas as pd\n",
    "data = pd.read_csv(\"desktop/QuietDonSentenceLenghts.csv\", header = None)\n",
    "data"
   ]
  },
  {
   "cell_type": "code",
   "execution_count": 328,
   "metadata": {
    "scrolled": true
   },
   "outputs": [
    {
     "name": "stdout",
     "output_type": "stream",
     "text": [
      "0    12\n",
      "dtype: int64\n",
      "0    9\n",
      "dtype: int64\n"
     ]
    }
   ],
   "source": [
    "#Calculating the mean and standard deviation for the sentence length data as follows:\n",
    "import numpy as np\n",
    "\n",
    "sample_mu = np.mean(data).astype(int)\n",
    "print(sample_mu)\n",
    "sample_sd = np.std(data).astype(int)\n",
    "print(sample_sd)"
   ]
  },
  {
   "cell_type": "code",
   "execution_count": 348,
   "metadata": {},
   "outputs": [
    {
     "data": {
      "text/plain": [
       "(0    65\n",
       " dtype: int64,\n",
       " 0    1\n",
       " dtype: int64)"
      ]
     },
     "execution_count": 348,
     "metadata": {},
     "output_type": "execute_result"
    }
   ],
   "source": [
    "#Calculating the maximum and minimum number of words that occured per line in the book\n",
    "data_max = data.max()\n",
    "data_min = data.min()\n",
    "data_max, data_min"
   ]
  },
  {
   "cell_type": "code",
   "execution_count": 350,
   "metadata": {},
   "outputs": [
    {
     "data": {
      "text/plain": [
       "{1: 84,\n",
       " 2: 127,\n",
       " 3: 150,\n",
       " 4: 164,\n",
       " 5: 159,\n",
       " 6: 249,\n",
       " 7: 246,\n",
       " 8: 250,\n",
       " 9: 233,\n",
       " 10: 234,\n",
       " 11: 180,\n",
       " 12: 193,\n",
       " 13: 158,\n",
       " 14: 156,\n",
       " 15: 139,\n",
       " 16: 99,\n",
       " 17: 113,\n",
       " 18: 91,\n",
       " 19: 98,\n",
       " 20: 79,\n",
       " 21: 63,\n",
       " 22: 52,\n",
       " 23: 49,\n",
       " 24: 50,\n",
       " 25: 30,\n",
       " 26: 40,\n",
       " 27: 19,\n",
       " 28: 20,\n",
       " 29: 28,\n",
       " 30: 14,\n",
       " 31: 17,\n",
       " 32: 16,\n",
       " 33: 21,\n",
       " 34: 12,\n",
       " 35: 9,\n",
       " 36: 12,\n",
       " 37: 9,\n",
       " 38: 9,\n",
       " 39: 10,\n",
       " 40: 8,\n",
       " 41: 10,\n",
       " 42: 5,\n",
       " 43: 7,\n",
       " 44: 6,\n",
       " 45: 3,\n",
       " 46: 2,\n",
       " 47: 4,\n",
       " 48: 6,\n",
       " 49: 2,\n",
       " 50: 2,\n",
       " 51: 4,\n",
       " 52: 2,\n",
       " 53: 1,\n",
       " 54: 2,\n",
       " 55: 3,\n",
       " 56: 2,\n",
       " 58: 1,\n",
       " 61: 2,\n",
       " 62: 1,\n",
       " 63: 1,\n",
       " 64: 3,\n",
       " 65: 1}"
      ]
     },
     "execution_count": 350,
     "metadata": {},
     "output_type": "execute_result"
    }
   ],
   "source": [
    "#The code below counts and sorts the number of times each unique word count has occured in the book\n",
    "data1 = data[0].value_counts().sort_index().to_dict()\n",
    "data1"
   ]
  },
  {
   "cell_type": "code",
   "execution_count": 352,
   "metadata": {
    "scrolled": true
   },
   "outputs": [
    {
     "data": {
      "image/png": "[encoded data removed]",
      "text/plain": [
       "<Figure size 1152x288 with 1 Axes>"
      ]
     },
     "metadata": {
      "needs_background": "light"
     },
     "output_type": "display_data"
    }
   ],
   "source": [
    "#The code below represents the data1 in a histogram to better understand the word count data\n",
    "\n",
    "from matplotlib import pyplot as plt\n",
    "fig, ax = plt.subplots(figsize=(16,4))\n",
    "ax.bar(range(len(data1)), list(data1.values()), align = 'center')\n",
    "plt.xticks(range(len(data1)), list(data1.keys()))\n",
    "plt.title(\"Sentence Length Data Histogram\")\n",
    "plt.xlabel(\"Sentence Length\")\n",
    "plt.ylabel(\"Frequency\")\n",
    "plt.show()"
   ]
  },
  {
   "cell_type": "code",
   "execution_count": 353,
   "metadata": {
    "scrolled": true
   },
   "outputs": [
    {
     "data": {
      "image/png": "[encoded data removed]",
      "text/plain": [
       "<Figure size 1152x288 with 1 Axes>"
      ]
     },
     "metadata": {
      "needs_background": "light"
     },
     "output_type": "display_data"
    }
   ],
   "source": [
    "#The code below fits a Poisson distribution to the sentence length data\n",
    "\n",
    "from scipy.stats import poisson\n",
    "\n",
    "data2 = pd.Series(data1)\n",
    "\n",
    "#poisson_pmf = lambda y, μ: μ**y / factorial(y) * exp(-μ)\n",
    "y_values = data2\n",
    "\n",
    "fig, ax = plt.subplots(figsize=(16, 4))\n",
    "\n",
    "for mu in [1, 12, 25, 35]:\n",
    "    distribution = []\n",
    "    for y_i in y_values:\n",
    "        distribution.append(poisson(mu).pmf(y_i))\n",
    "    ax.plot(y_values,\n",
    "            distribution,\n",
    "            label=f'$\\mu$={mu}',\n",
    "            alpha=0.5,\n",
    "            marker='o',\n",
    "            markersize=8)\n",
    "\n",
    "ax.grid()\n",
    "ax.set_xlabel('$y$', fontsize=14)\n",
    "ax.set_ylabel('$f(y \\mid \\mu)$', fontsize=14)\n",
    "ax.axis(xmin=0, ymin=0)\n",
    "ax.legend(fontsize=14)\n",
    "\n",
    "plt.show()"
   ]
  },
  {
   "cell_type": "markdown",
   "metadata": {},
   "source": [
    "### Fit a Poisson Distribution to Sentence Length Data using Maximum Likelihood\n",
    "Now we use the statsmodel to perform maximum likelihood estimation. MLE is used to estimate the parameters of a statistical model given the observations, by finding the parameter values that maximise the likelihood of making the observations given the parameters."
   ]
  },
  {
   "cell_type": "code",
   "execution_count": 349,
   "metadata": {
    "scrolled": true
   },
   "outputs": [
    {
     "name": "stdout",
     "output_type": "stream",
     "text": [
      "Requirement already satisfied: statsmodels in ./opt/anaconda3/lib/python3.8/site-packages (0.11.1)\n",
      "Requirement already satisfied: numpy>=1.14 in ./opt/anaconda3/lib/python3.8/site-packages (from statsmodels) (1.18.5)\n",
      "Requirement already satisfied: scipy>=1.0 in ./opt/anaconda3/lib/python3.8/site-packages (from statsmodels) (1.5.0)\n",
      "Requirement already satisfied: pandas>=0.21 in ./opt/anaconda3/lib/python3.8/site-packages (from statsmodels) (1.0.5)\n",
      "Requirement already satisfied: patsy>=0.5 in ./opt/anaconda3/lib/python3.8/site-packages (from statsmodels) (0.5.1)\n",
      "Requirement already satisfied: pytz>=2017.2 in ./opt/anaconda3/lib/python3.8/site-packages (from pandas>=0.21->statsmodels) (2020.1)\n",
      "Requirement already satisfied: python-dateutil>=2.6.1 in ./opt/anaconda3/lib/python3.8/site-packages (from pandas>=0.21->statsmodels) (2.8.1)\n",
      "Requirement already satisfied: six in ./opt/anaconda3/lib/python3.8/site-packages (from patsy>=0.5->statsmodels) (1.15.0)\n"
     ]
    }
   ],
   "source": [
    "!pip install statsmodels"
   ]
  },
  {
   "cell_type": "markdown",
   "metadata": {},
   "source": [
    "To fit the poisson distribution to data using MLE, we need exog(x variable) and endog(yvariable). The x variable is the obviously the observation found in the sentence length data i.e. \"data\". For endog, build an array for the data shown by \"y\"."
   ]
  },
  {
   "cell_type": "code",
   "execution_count": 354,
   "metadata": {
    "scrolled": true
   },
   "outputs": [
    {
     "name": "stdout",
     "output_type": "stream",
     "text": [
      "Optimization terminated successfully.\n",
      "         Current function value: 4.947456\n",
      "         Iterations 1\n",
      "                          Poisson Regression Results                          \n",
      "==============================================================================\n",
      "Dep. Variable:                      0   No. Observations:                 3760\n",
      "Model:                        Poisson   Df Residuals:                     3759\n",
      "Method:                           MLE   Df Model:                            0\n",
      "Date:                Tue, 05 Jan 2021   Pseudo R-squ.:                   0.000\n",
      "Time:                        01:01:56   Log-Likelihood:                -18602.\n",
      "converged:                       True   LL-Null:                       -18602.\n",
      "Covariance Type:            nonrobust   LLR p-value:                       nan\n",
      "==============================================================================\n",
      "                 coef    std err          z      P>|z|      [0.025      0.975]\n",
      "------------------------------------------------------------------------------\n",
      "const          2.5395      0.005    554.347      0.000       2.531       2.548\n",
      "==============================================================================\n"
     ]
    },
    {
     "data": {
      "text/plain": [
       "const    12.673138\n",
       "dtype: float64"
      ]
     },
     "execution_count": 354,
     "metadata": {},
     "output_type": "execute_result"
    }
   ],
   "source": [
    "y = np.ones_like(data)\n",
    "res = sm.Poisson(data,y).fit()\n",
    "\n",
    "print(res.summary())\n",
    "np.exp(res.params)"
   ]
  },
  {
   "cell_type": "markdown",
   "metadata": {},
   "source": [
    "Maximum likelihood inference aims to find parameters that maximise the likelihood of the model, so that under the assumed statistical model the observed data is most probable. L(◊|x) = p(x|◊).\n",
    "We could perform maximisation either using norm.fit() method of the appropriate scipy distribution or using the library function. Both the methods have been performed below. We can visualise how the likelihood changes as we change mu.\n",
    "\n",
    "The norm code below generates two values, 12.67 represents the mean value and 9.12 represents standard deviation."
   ]
  },
  {
   "cell_type": "code",
   "execution_count": 336,
   "metadata": {
    "scrolled": true
   },
   "outputs": [
    {
     "data": {
      "text/plain": [
       "(12.67313829787234, 9.122821613603966)"
      ]
     },
     "execution_count": 336,
     "metadata": {},
     "output_type": "execute_result"
    }
   ],
   "source": [
    "norm.fit(data)"
   ]
  },
  {
   "cell_type": "code",
   "execution_count": 195,
   "metadata": {},
   "outputs": [],
   "source": [
    "from numpy import exp\n",
    "import matplotlib.pyplot as plt\n",
    "from scipy.special import factorial\n",
    "import pandas as pd\n",
    "import numpy as np\n",
    "\n",
    "from scipy import stats\n",
    "from scipy.stats import norm\n",
    "from statsmodels.iolib.summary2 import summary_col"
   ]
  },
  {
   "cell_type": "markdown",
   "metadata": {},
   "source": [
    "The standard deviation is known and we wish to estimate the mean. We now calculate the negative logarithm of the likelihood of the data points in sentence length data dataset with standard deviation as sample_sd calculated above."
   ]
  },
  {
   "cell_type": "code",
   "execution_count": 397,
   "metadata": {},
   "outputs": [],
   "source": [
    "from scipy.optimize import minimize\n",
    "def f(mu):\n",
    "    ff = norm.logpdf(data,loc=mu,scale=sample_sd)\n",
    "    return -np.sum(ff)"
   ]
  },
  {
   "cell_type": "code",
   "execution_count": 398,
   "metadata": {
    "scrolled": true
   },
   "outputs": [
    {
     "data": {
      "text/plain": [
       "      fun: 13648.4355608689\n",
       " hess_inv: array([[0.02154255]])\n",
       "      jac: array([0.])\n",
       "  message: 'Optimization terminated successfully.'\n",
       "     nfev: 10\n",
       "      nit: 3\n",
       "     njev: 5\n",
       "   status: 0\n",
       "  success: True\n",
       "        x: array([12.67313679])"
      ]
     },
     "execution_count": 398,
     "metadata": {},
     "output_type": "execute_result"
    }
   ],
   "source": [
    "#minimize() function from scipy is used to find the value of mu which minimises our function\n",
    "minimize(f,0)"
   ]
  },
  {
   "cell_type": "markdown",
   "metadata": {},
   "source": [
    "The minimize() function from scipy is used to find the value of mu which minimises our function"
   ]
  },
  {
   "cell_type": "markdown",
   "metadata": {},
   "source": [
    "We can observe that x value derived from the minimize function (12.67313) is highly similar to the mean value derived from the norm function, and similar to the value derived from poisson distribution above."
   ]
  },
  {
   "cell_type": "markdown",
   "metadata": {},
   "source": [
    "Below we have plotted the values of our function f(mu) for a range of values for mu to check that the minimisation has worked."
   ]
  },
  {
   "cell_type": "code",
   "execution_count": 399,
   "metadata": {},
   "outputs": [
    {
     "data": {
      "text/plain": [
       "<matplotlib.lines.Line2D at 0x7f858c80dca0>"
      ]
     },
     "execution_count": 399,
     "metadata": {},
     "output_type": "execute_result"
    },
    {
     "data": {
      "image/png": "[encoded data removed]",
      "text/plain": [
       "<Figure size 432x288 with 1 Axes>"
      ]
     },
     "metadata": {
      "needs_background": "light"
     },
     "output_type": "display_data"
    }
   ],
   "source": [
    "#We can visualise our results below. \n",
    "mus = np.linspace(data_min,data_max,1000)\n",
    "like = []\n",
    "for mu in mus:\n",
    "    like.append(-f(mu))\n",
    "plt.plot(mus, like) # plot a line for the negative log likelihood\n",
    "plt.axvline(sample_mu.item(), color='red', linewidth=2) # add a red vertical line at the ML estimate of mu"
   ]
  },
  {
   "cell_type": "markdown",
   "metadata": {},
   "source": [
    "## Fit a Poisson distribution to the sentence length data using MAP estimation"
   ]
  },
  {
   "cell_type": "markdown",
   "metadata": {},
   "source": [
    "Maximum a posteriori (MAP) inference aims to find parameters that maximise the posterior distribution. It produces single value estimates of model parameters, rather than distributions. Rather than aiming to maximise the likelihood alone, MAP inference aims to find parameters that maximise the posterior.\n",
    "\n",
    "Now we perform MAP inference by adding a prior to our likelihood, so that we are maximising the posterior density. We first plot the prior with the following parameters that were given."
   ]
  },
  {
   "cell_type": "code",
   "execution_count": 357,
   "metadata": {},
   "outputs": [],
   "source": [
    "#as stated in the coursework assignment sheet\n",
    "prior_mean = 4.0 \n",
    "prior_sd = 0.1"
   ]
  },
  {
   "cell_type": "code",
   "execution_count": 400,
   "metadata": {},
   "outputs": [
    {
     "data": {
      "text/plain": [
       "[<matplotlib.lines.Line2D at 0x7f858d16a370>]"
      ]
     },
     "execution_count": 400,
     "metadata": {},
     "output_type": "execute_result"
    },
    {
     "data": {
      "image/png": "[encoded data removed]",
      "text/plain": [
       "<Figure size 432x288 with 1 Axes>"
      ]
     },
     "metadata": {
      "needs_background": "light"
     },
     "output_type": "display_data"
    }
   ],
   "source": [
    "#plotting the prior\n",
    "mus = np.linspace(data_min,data_max,1000) #range of values created to plot the prior\n",
    "plt.plot(mus,norm.pdf(mus,loc=prior_mean,scale=prior_sd))"
   ]
  },
  {
   "cell_type": "code",
   "execution_count": 401,
   "metadata": {},
   "outputs": [],
   "source": [
    "#the negative log likelihood posterior function for a given value of mu is used to evaluate the posterior for a value of mu\n",
    "def nlposterior(mu):\n",
    "    loglikelihood_array = norm.logpdf(data,loc=mu,scale=sample_sd)\n",
    "    loglikelihood = np.sum(loglikelihood_array)\n",
    "    prior = norm.logpdf(mu, loc=4.0, scale = 0.1)\n",
    "    return -(loglikelihood+prior)"
   ]
  },
  {
   "cell_type": "code",
   "execution_count": 403,
   "metadata": {
    "scrolled": true
   },
   "outputs": [
    {
     "data": {
      "text/plain": [
       "array([6.7496627])"
      ]
     },
     "execution_count": 403,
     "metadata": {},
     "output_type": "execute_result"
    }
   ],
   "source": [
    "#minimises the negative log posterior\n",
    "minimize(nlposterior,0).x"
   ]
  },
  {
   "cell_type": "code",
   "execution_count": null,
   "metadata": {},
   "outputs": [],
   "source": []
  },
  {
   "cell_type": "code",
   "execution_count": 345,
   "metadata": {},
   "outputs": [
    {
     "data": {
      "text/plain": [
       "[<matplotlib.lines.Line2D at 0x7f858b8317f0>]"
      ]
     },
     "execution_count": 345,
     "metadata": {},
     "output_type": "execute_result"
    },
    {
     "data": {
      "image/png": "[encoded data removed]",
      "text/plain": [
       "<Figure size 432x288 with 1 Axes>"
      ]
     },
     "metadata": {
      "needs_background": "light"
     },
     "output_type": "display_data"
    }
   ],
   "source": [
    "#Visualising the negative log posterior\n",
    "\n",
    "mus = np.linspace(data_min,data_max,1000) # create an array of 1000 values from 9 to 11.\n",
    "\n",
    "ys = [] # create an empty list of y coordinates\n",
    "for mu in mus: # for each value of mu in the range\n",
    "    ys.append(nlposterior(mu)) # add f(mu) to the list of y coordinates\n",
    "\n",
    "plt.plot(mus,ys) # plot a line for the negative log likelihood\n",
    "\n"
   ]
  },
  {
   "cell_type": "code",
   "execution_count": 360,
   "metadata": {
    "scrolled": true
   },
   "outputs": [
    {
     "data": {
      "text/plain": [
       "<matplotlib.lines.Line2D at 0x7f858c6874f0>"
      ]
     },
     "execution_count": 360,
     "metadata": {},
     "output_type": "execute_result"
    },
    {
     "data": {
      "image/png": "[encoded data removed]",
      "text/plain": [
       "<Figure size 432x288 with 1 Axes>"
      ]
     },
     "metadata": {
      "needs_background": "light"
     },
     "output_type": "display_data"
    }
   ],
   "source": [
    "ml_estimate = minimize(f,0).x\n",
    "map_estimate = minimize(nlposterior,0).x\n",
    "plt.plot(mus,ys)\n",
    "plt.axvline(ml_estimate.item(),color='red') # add a red vertical line at the ML estimate of mu\n",
    "plt.axvline(map_estimate.item(),color='green') # add a green vertical line at the MAP estimate of mu"
   ]
  },
  {
   "cell_type": "markdown",
   "metadata": {},
   "source": [
    "We can see how significantly the value of mu differs between ML and MAP estimates."
   ]
  },
  {
   "cell_type": "markdown",
   "metadata": {},
   "source": [
    "ML: It is a frequentist approach, which assumes the parameter is fixed and unknown. It makes the estimation using only the data.\n",
    "\n",
    "MAP: It is a Bayesian approach, which assumes the parameter follows a probability distribution and the distribution is unknown. MAP uses both prior and the data to perform the estimation."
   ]
  },
  {
   "cell_type": "markdown",
   "metadata": {},
   "source": [
    "### Negative Binomial Distribution"
   ]
  },
  {
   "cell_type": "markdown",
   "metadata": {},
   "source": [
    "The negative binomial distribution is a discrete probability distribution that models the number of successes in a sequence of independent and identically distributed Bernoulli trials before a specified (non-random) number of failures (denoted r) occurs."
   ]
  },
  {
   "cell_type": "code",
   "execution_count": 361,
   "metadata": {
    "scrolled": true
   },
   "outputs": [
    {
     "name": "stdout",
     "output_type": "stream",
     "text": [
      "Optimization terminated successfully.\n",
      "         Current function value: 3.417881\n",
      "         Iterations: 4\n",
      "         Function evaluations: 5\n",
      "         Gradient evaluations: 5\n",
      "                     NegativeBinomial Regression Results                      \n",
      "==============================================================================\n",
      "Dep. Variable:                      0   No. Observations:                 3760\n",
      "Model:               NegativeBinomial   Df Residuals:                     3759\n",
      "Method:                           MLE   Df Model:                            0\n",
      "Date:                Tue, 05 Jan 2021   Pseudo R-squ.:              -1.942e-12\n",
      "Time:                        01:36:08   Log-Likelihood:                -12851.\n",
      "converged:                       True   LL-Null:                       -12851.\n",
      "Covariance Type:            nonrobust   LLR p-value:                       nan\n",
      "==============================================================================\n",
      "                 coef    std err          z      P>|z|      [0.025      0.975]\n",
      "------------------------------------------------------------------------------\n",
      "const          2.5395      0.011    230.979      0.000       2.518       2.561\n",
      "alpha          0.3756      0.010     36.527      0.000       0.355       0.396\n",
      "==============================================================================\n"
     ]
    },
    {
     "data": {
      "text/plain": [
       "const    12.673138\n",
       "alpha     1.455854\n",
       "dtype: float64"
      ]
     },
     "execution_count": 361,
     "metadata": {},
     "output_type": "execute_result"
    }
   ],
   "source": [
    "#Fit a Negative binomial distribution to the sentence length data using maximum likelihood.\n",
    "from statsmodels.discrete.discrete_model import NegativeBinomial\n",
    "\n",
    "res2 = sm.NegativeBinomial(data, y).fit()\n",
    "print(res2.summary())\n",
    "np.exp(res2.params)"
   ]
  },
  {
   "cell_type": "code",
   "execution_count": 451,
   "metadata": {},
   "outputs": [
    {
     "data": {
      "text/plain": [
       "[Text(0, 0.5, 'Frequency'), Text(0.5, 0, 'Negative Binomial')]"
      ]
     },
     "execution_count": 451,
     "metadata": {},
     "output_type": "execute_result"
    },
    {
     "data": {
      "image/png": "[encoded data removed]",
      "text/plain": [
       "<Figure size 324x216 with 1 Axes>"
      ]
     },
     "metadata": {},
     "output_type": "display_data"
    }
   ],
   "source": [
    "from scipy.stats import nbinom\n",
    "import seaborn as sns\n",
    "sns.set(color_codes=True)\n",
    "\n",
    "nbinom_pd = nbinom.pmf(X, r, P)\n",
    "\n",
    "fig, ax = plt.subplots(1, 1, figsize=(8, 6))\n",
    "ax.plot(X, nbinom_pd, 'bo', ms=8, label='nbinom pmf')\n",
    "ax.plot(X, nbinom_pd, 'bo', ms=8, label='nbinom pmf')\n",
    "plt.ylabel(\"Probability\", fontsize=\"18\")\n",
    "plt.xlabel(\"X - No. of Sales Call\", fontsize=\"18\")\n",
    "plt.title(\"Negative Binomial Distribution - No. of Sales Call Vs Probability\", fontsize=\"18\")\n",
    "ax.vlines(X, 0, nbinom_pd, colors='b', lw=5, alpha=0.5)\n",
    "\n",
    "sns.set(rc={'figure.figsize':(4.5,3)})\n",
    "ax = sns.distplot(data,\n",
    "                  kde=False,\n",
    "                  color='black',\n",
    "                  hist_kws={\"linewidth\": 15,'alpha':1})\n",
    "ax.set(xlabel='Negative Binomial', ylabel='Frequency')"
   ]
  },
  {
   "cell_type": "code",
   "execution_count": 370,
   "metadata": {},
   "outputs": [],
   "source": [
    "from scipy.optimize import minimize\n",
    "def f(mu):\n",
    "    loglikelihood = norm.logpdf(data,loc=mu,scale=sample_sd)\n",
    "    return -np.sum(loglikelihood)"
   ]
  },
  {
   "cell_type": "code",
   "execution_count": 371,
   "metadata": {},
   "outputs": [
    {
     "data": {
      "text/plain": [
       "array([12.67313679])"
      ]
     },
     "execution_count": 371,
     "metadata": {},
     "output_type": "execute_result"
    }
   ],
   "source": [
    "minimize(f,0).x"
   ]
  },
  {
   "cell_type": "code",
   "execution_count": 375,
   "metadata": {},
   "outputs": [
    {
     "data": {
      "text/plain": [
       "<matplotlib.lines.Line2D at 0x7f858c53eaf0>"
      ]
     },
     "execution_count": 375,
     "metadata": {},
     "output_type": "execute_result"
    },
    {
     "data": {
      "image/png": "[encoded data removed]",
      "text/plain": [
       "<Figure size 432x288 with 1 Axes>"
      ]
     },
     "metadata": {
      "needs_background": "light"
     },
     "output_type": "display_data"
    }
   ],
   "source": [
    "mus = np.linspace(data_min, data_max,1000)\n",
    "like = []\n",
    "for mu in mus:\n",
    "    like.append(-f(mu))\n",
    "plt.plot(mus,like)\n",
    "plt.axvline(sample_mu.item(),color='red')"
   ]
  },
  {
   "cell_type": "markdown",
   "metadata": {},
   "source": [
    "## Task 2 – Classification and Validation"
   ]
  },
  {
   "cell_type": "markdown",
   "metadata": {},
   "source": [
    "### NAIVE BAYES CLASSIFICATION\n",
    "\n",
    "It is a classification technique based on Bayes’ Theorem with an assumption of independence among predictors. In simple terms, a Naive Bayes classifier assumes that the presence of a particular feature in a class is unrelated to the presence of any other feature. A Naive Bayes classifier performs better compare to other models like logistic regression and you need less training data. They are probabilistic, which means that they calculate the probability of each tag for a given text, and then output the tag with the highest one. The way they get these probabilities is by using Bayes’ Theorem, which describes the probability of a feature, based on prior knowledge of conditions that might be related to that feature.\n",
    "\n",
    "The aim is to assign each data point to a class c based on its properties. There are two classes we would like to train our classifier to predict for the ATLAS dataset that has been provided, where value 1 from the ATLAS-label dataset represents a signal, and 0 represents background noise.\n",
    "\n",
    "Bayes’ theorem is stated mathematically as the following equation:\n",
    "\n",
    "P(A|B) = {P(B|A) P(A)} / {P(B)} \n",
    "\n",
    "Naive assumption to the Bayes’ theorem, which is, independence among the features is:\n",
    "\n",
    "P(A,B) = P(A)P(B)"
   ]
  },
  {
   "cell_type": "code",
   "execution_count": 284,
   "metadata": {},
   "outputs": [],
   "source": [
    "import numpy as np\n",
    "import sklearn\n",
    "from sklearn.datasets import make_blobs\n",
    "from sklearn.preprocessing import scale\n",
    "from sklearn.naive_bayes import GaussianNB"
   ]
  },
  {
   "cell_type": "code",
   "execution_count": 274,
   "metadata": {},
   "outputs": [],
   "source": [
    "#loading the two ATLAS datasets\n",
    "ATLAS_data = np.loadtxt(\"desktop/ATLAS-data.csv\",delimiter=',')\n",
    "ATLAS_labels = np.loadtxt(\"desktop/ATLAS-labels.csv\",delimiter=',')"
   ]
  },
  {
   "cell_type": "code",
   "execution_count": 276,
   "metadata": {
    "scrolled": true
   },
   "outputs": [
    {
     "data": {
      "text/plain": [
       "array([0., 0., 0., ..., 1., 1., 0.])"
      ]
     },
     "execution_count": 276,
     "metadata": {},
     "output_type": "execute_result"
    }
   ],
   "source": [
    "ATLAS_data\n",
    "ATLAS_labels"
   ]
  },
  {
   "cell_type": "code",
   "execution_count": 281,
   "metadata": {},
   "outputs": [
    {
     "data": {
      "text/plain": [
       "<matplotlib.collections.PathCollection at 0x7f8588351c40>"
      ]
     },
     "execution_count": 281,
     "metadata": {},
     "output_type": "execute_result"
    },
    {
     "data": {
      "image/png": "[encoded data removed]",
      "text/plain": [
       "<Figure size 432x288 with 1 Axes>"
      ]
     },
     "metadata": {
      "needs_background": "light"
     },
     "output_type": "display_data"
    }
   ],
   "source": [
    "#plotting the data\n",
    "plt.scatter(ATLAS_data[:,0],ATLAS_data[:,1],c=ATLAS_labels)"
   ]
  },
  {
   "cell_type": "code",
   "execution_count": 286,
   "metadata": {},
   "outputs": [
    {
     "data": {
      "text/plain": [
       "<matplotlib.collections.PathCollection at 0x7f8588e1a7c0>"
      ]
     },
     "execution_count": 286,
     "metadata": {},
     "output_type": "execute_result"
    },
    {
     "data": {
      "image/png": "[encoded data removed]",
      "text/plain": [
       "<Figure size 432x288 with 1 Axes>"
      ]
     },
     "metadata": {
      "needs_background": "light"
     },
     "output_type": "display_data"
    }
   ],
   "source": [
    "#scaling the data so that it has a mean of 0, and standard deviation 1 and then visualising it again\n",
    "ATLAS_data_scaled = sklearn.preprocessing.scale(ATLAS_data)\n",
    "plt.scatter(ATLAS_data_scaled[:,0],ATLAS_data_scaled[:,1],c=ATLAS_labels)"
   ]
  },
  {
   "cell_type": "code",
   "execution_count": 381,
   "metadata": {},
   "outputs": [],
   "source": [
    "#splitting the data into training and testing dataset for appropriate model evaluation.\n",
    "from sklearn.model_selection import train_test_split\n",
    "\n",
    "x_train, x_test, y_train, y_test = train_test_split(ATLAS_data_scaled, ATLAS_labels, test_size=0.1, random_state=69)"
   ]
  },
  {
   "cell_type": "code",
   "execution_count": 382,
   "metadata": {},
   "outputs": [],
   "source": [
    "#Creating the Naive Bayes model and fitting it to the data\n",
    "nb = GaussianNB().fit(x_train, y_train)"
   ]
  },
  {
   "cell_type": "code",
   "execution_count": 383,
   "metadata": {},
   "outputs": [
    {
     "name": "stdout",
     "output_type": "stream",
     "text": [
      "0.741\n"
     ]
    }
   ],
   "source": [
    "#calculating the accuracy of the model\n",
    "predicted = nb.predict(x_test)\n",
    "\n",
    "print(np.mean(predicted == y_test))"
   ]
  },
  {
   "cell_type": "code",
   "execution_count": 294,
   "metadata": {},
   "outputs": [
    {
     "name": "stdout",
     "output_type": "stream",
     "text": [
      "[[371 159]\n",
      " [100 370]]\n"
     ]
    }
   ],
   "source": [
    "#For further analysis, the confusion matrix can be analysed\n",
    "from sklearn.metrics import confusion_matrix\n",
    "\n",
    "print(confusion_matrix(y_test, predicted))"
   ]
  },
  {
   "cell_type": "code",
   "execution_count": 387,
   "metadata": {},
   "outputs": [
    {
     "data": {
      "text/plain": [
       "(0.741, 0.6994328922495274, 0.7872340425531915)"
      ]
     },
     "execution_count": 387,
     "metadata": {},
     "output_type": "execute_result"
    }
   ],
   "source": [
    "#calculating the accuracy, precision and recall value of the model\n",
    "from sklearn import metrics\n",
    "\n",
    "NB_accuracy = metrics.accuracy_score(y_test, predicted)\n",
    "NB_precision = metrics.precision_score(y_test, predicted)\n",
    "NB_recall = metrics.recall_score(y_test, predicted)\n",
    "NB_accuracy, NB_precision, NB_recall"
   ]
  },
  {
   "cell_type": "code",
   "execution_count": 388,
   "metadata": {},
   "outputs": [
    {
     "data": {
      "text/plain": [
       "3.148936170212766"
      ]
     },
     "execution_count": 388,
     "metadata": {},
     "output_type": "execute_result"
    }
   ],
   "source": [
    "#Calculating the F score\n",
    "NB_F = 2 * ((NB_precision * NB_recall)/NB_precision + NB_recall)\n",
    "NB_F"
   ]
  },
  {
   "cell_type": "code",
   "execution_count": 408,
   "metadata": {},
   "outputs": [
    {
     "name": "stdout",
     "output_type": "stream",
     "text": [
      "Naive Bayes: ROC AUC=0.744\n"
     ]
    }
   ],
   "source": [
    "#calculating the ROC curve for the Naive Bayes model\n",
    "from sklearn.metrics import roc_curve\n",
    "from sklearn.metrics import roc_auc_score\n",
    "nb_auc = roc_auc_score(y_test, predicted)\n",
    "print('Naive Bayes: ROC AUC=%.3f' % (nb_auc))"
   ]
  },
  {
   "cell_type": "code",
   "execution_count": 412,
   "metadata": {},
   "outputs": [],
   "source": [
    "nb_fpr, nb_tpr, _ = roc_curve(y_test, predicted)"
   ]
  },
  {
   "cell_type": "code",
   "execution_count": 413,
   "metadata": {},
   "outputs": [
    {
     "data": {
      "text/plain": [
       "<matplotlib.legend.Legend at 0x7f858d25b070>"
      ]
     },
     "execution_count": 413,
     "metadata": {},
     "output_type": "execute_result"
    },
    {
     "data": {
      "image/png": "[encoded data removed]",
      "text/plain": [
       "<Figure size 432x288 with 1 Axes>"
      ]
     },
     "metadata": {
      "needs_background": "light"
     },
     "output_type": "display_data"
    }
   ],
   "source": [
    "#visualising the naive bayes ROC curve\n",
    "#area under the curve depicts accuracy of the model\n",
    "plt.plot(nb_fpr, nb_tpr, marker='.', label='Naive Bayes')\n",
    "plt.xlabel('False Positive Rate')\n",
    "plt.ylabel('True Positive Rate')\n",
    "plt.legend()"
   ]
  },
  {
   "cell_type": "markdown",
   "metadata": {},
   "source": [
    "## LOGISTIC REGRESSION\n",
    "\n",
    "\n",
    "Logistic regression models the probabilities for classification problems with two possible outcomes. It's an extension of the linear regression model for classification problems. The logistic function outputs numbers between 0 and 1. Logistic regression is a classification algorithm used to assign observations to a discrete set of classes.\n",
    "\n",
    "Logistic Regression uses a more complex cost function, this cost function can be defined as the ‘Sigmoid function’ or also known as the ‘logistic function’ instead of a linear function. The sigmoid function maps any real value into another value between 0 and 1.\n",
    "\n",
    "Logistic Regression Equation: \n",
    "\n",
    "y = e^(b0 + b1*x) / (1 + e^(b0 + b1*x))\n",
    "\n",
    "Where y is the predicted output, b0 is the bias or intercept term and b1 is the coefficient for the single input value (x). Each column in your input data has an associated b coefficient (a constant real value) that must be learned from your training data."
   ]
  },
  {
   "cell_type": "code",
   "execution_count": 304,
   "metadata": {},
   "outputs": [],
   "source": [
    "#Loading the data and then scaling it.\n",
    "LR_data = pd.read_csv('desktop/ATLAS-data.csv')\n",
    "LR_label = pd.read_csv('desktop/ATLAS-labels.csv')\n",
    "LR_data\n",
    "LR_data_scaled = sklearn.preprocessing.scale(LR_data)"
   ]
  },
  {
   "cell_type": "code",
   "execution_count": 305,
   "metadata": {},
   "outputs": [],
   "source": [
    "#splitting the data into training and testing dataset for model evaluation.\n",
    "from sklearn.model_selection import train_test_split\n",
    "trainingSet, testSet = train_test_split(LR_data, test_size=0.2)"
   ]
  },
  {
   "cell_type": "code",
   "execution_count": 306,
   "metadata": {},
   "outputs": [],
   "source": [
    "train_df = trainingSet\n",
    "test_df = testSet"
   ]
  },
  {
   "cell_type": "code",
   "execution_count": 311,
   "metadata": {},
   "outputs": [],
   "source": [
    "LR_x_train, LR_x_test, LR_y_train, LR_y_test = train_test_split(LR_data_scaled, LR_label, test_size=0.1, random_state=69)"
   ]
  },
  {
   "cell_type": "code",
   "execution_count": 312,
   "metadata": {},
   "outputs": [],
   "source": [
    "#performing logistic regression to fit the data\n",
    "from sklearn.linear_model import LogisticRegression\n",
    "logreg = LogisticRegression()"
   ]
  },
  {
   "cell_type": "code",
   "execution_count": 313,
   "metadata": {},
   "outputs": [
    {
     "name": "stderr",
     "output_type": "stream",
     "text": [
      "/Users/harveenkaur/opt/anaconda3/lib/python3.8/site-packages/sklearn/utils/validation.py:73: DataConversionWarning: A column-vector y was passed when a 1d array was expected. Please change the shape of y to (n_samples, ), for example using ravel().\n",
      "  return f(**kwargs)\n"
     ]
    },
    {
     "data": {
      "text/plain": [
       "LogisticRegression()"
      ]
     },
     "execution_count": 313,
     "metadata": {},
     "output_type": "execute_result"
    }
   ],
   "source": [
    "logreg.fit(LR_x_train,LR_y_train)"
   ]
  },
  {
   "cell_type": "code",
   "execution_count": 405,
   "metadata": {},
   "outputs": [],
   "source": [
    "y_pred = logreg.predict(LR_x_test)"
   ]
  },
  {
   "cell_type": "code",
   "execution_count": 316,
   "metadata": {},
   "outputs": [
    {
     "data": {
      "text/plain": [
       "array([[425, 120],\n",
       "       [144, 311]])"
      ]
     },
     "execution_count": 316,
     "metadata": {},
     "output_type": "execute_result"
    }
   ],
   "source": [
    "#Analysing the confusion matrix for the logistic regression model\n",
    "from sklearn import metrics\n",
    "cnf_matrix = metrics.confusion_matrix(LR_y_test, y_pred)\n",
    "cnf_matrix"
   ]
  },
  {
   "cell_type": "code",
   "execution_count": 317,
   "metadata": {},
   "outputs": [],
   "source": [
    "#calculating the accuracy, precision and recall value for the logistic regression model\n",
    "accuracy = metrics.accuracy_score(LR_y_test, y_pred)\n",
    "precision = metrics.precision_score(LR_y_test, y_pred)\n",
    "recall = metrics.recall_score(LR_y_test, y_pred)"
   ]
  },
  {
   "cell_type": "code",
   "execution_count": 318,
   "metadata": {},
   "outputs": [
    {
     "name": "stdout",
     "output_type": "stream",
     "text": [
      "Accuracy: 0.736\n",
      "Precision: 0.7215777262180975\n",
      "Recall: 0.6835164835164835\n"
     ]
    }
   ],
   "source": [
    "print(\"Accuracy:\", accuracy)\n",
    "print(\"Precision:\",precision)\n",
    "print(\"Recall:\",recall)"
   ]
  },
  {
   "cell_type": "code",
   "execution_count": 320,
   "metadata": {},
   "outputs": [
    {
     "data": {
      "text/plain": [
       "0.7308589843315924"
      ]
     },
     "execution_count": 320,
     "metadata": {},
     "output_type": "execute_result"
    }
   ],
   "source": [
    "#depicts the accuracy of the training dataset\n",
    "logreg.score(LR_x_train, LR_y_train)"
   ]
  },
  {
   "cell_type": "code",
   "execution_count": 321,
   "metadata": {},
   "outputs": [
    {
     "data": {
      "text/plain": [
       "0.736"
      ]
     },
     "execution_count": 321,
     "metadata": {},
     "output_type": "execute_result"
    }
   ],
   "source": [
    "#depicts the accuracy of the testing dataset\n",
    "logreg.score(LR_x_test, LR_y_test)"
   ]
  },
  {
   "cell_type": "code",
   "execution_count": 322,
   "metadata": {},
   "outputs": [
    {
     "name": "stdout",
     "output_type": "stream",
     "text": [
      "Logistic: ROC AUC=0.732\n"
     ]
    }
   ],
   "source": [
    "#calculating the ROC curve for the logistic regression model\n",
    "from sklearn.metrics import roc_curve\n",
    "from sklearn.metrics import roc_auc_score\n",
    "lr_auc = roc_auc_score(LR_y_test, y_pred)\n",
    "print('Logistic: ROC AUC=%.3f' % (lr_auc))"
   ]
  },
  {
   "cell_type": "code",
   "execution_count": 409,
   "metadata": {},
   "outputs": [],
   "source": [
    "lr_fpr, lr_tpr, _ = roc_curve(LR_y_test, y_pred)"
   ]
  },
  {
   "cell_type": "code",
   "execution_count": 421,
   "metadata": {},
   "outputs": [
    {
     "data": {
      "text/plain": [
       "<matplotlib.legend.Legend at 0x7f858d712f10>"
      ]
     },
     "execution_count": 421,
     "metadata": {},
     "output_type": "execute_result"
    },
    {
     "data": {
      "image/png": "[encoded data removed]",
      "text/plain": [
       "<Figure size 432x288 with 1 Axes>"
      ]
     },
     "metadata": {
      "needs_background": "light"
     },
     "output_type": "display_data"
    }
   ],
   "source": [
    "#visualising the logistic ROC curve\n",
    "#area under the curve depicts accuracy of the model\n",
    "plt.plot(lr_fpr, lr_tpr, marker='.', label='Logistic')\n",
    "plt.xlabel('False Positive Rate')\n",
    "plt.ylabel('True Positive Rate')\n",
    "plt.legend()"
   ]
  },
  {
   "cell_type": "code",
   "execution_count": 325,
   "metadata": {},
   "outputs": [
    {
     "data": {
      "text/plain": [
       "2.734065934065934"
      ]
     },
     "execution_count": 325,
     "metadata": {},
     "output_type": "execute_result"
    }
   ],
   "source": [
    "#calculating the F score of the logistic regression model\n",
    "F = 2 * ((precision * recall)/precision + recall)\n",
    "F"
   ]
  },
  {
   "cell_type": "markdown",
   "metadata": {},
   "source": [
    "Both the models have reasonably fair with a very similar accuracy (Naive Bayes:0.741,Logistic Regression:0.736). Naive Bayes model has performed better than the logistic regression model with a significantly better F score of 3.14 for NB compared to 2.73 for LR and a better ROC curve with ROC AUC value 0.744 for NB and 0.732 for LR.\n",
    "\n",
    "Hypertuning and further optimization can be performed to improve the models for better results. In this case, however, we can conclude that both Naive Bayes model has delivered better results for the ATLAS data, with better prediction about the particle collision events."
   ]
  }
 ],
 "metadata": {
  "kernelspec": {
   "display_name": "Python 3",
   "language": "python",
   "name": "python3"
  },
  "language_info": {
   "codemirror_mode": {
    "name": "ipython",
    "version": 3
   },
   "file_extension": ".py",
   "mimetype": "text/x-python",
   "name": "python",
   "nbconvert_exporter": "python",
   "pygments_lexer": "ipython3",
   "version": "3.8.3"
  }
 },
 "nbformat": 4,
 "nbformat_minor": 4
}
